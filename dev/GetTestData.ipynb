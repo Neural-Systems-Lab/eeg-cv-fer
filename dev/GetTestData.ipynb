{
  "nbformat": 4,
  "nbformat_minor": 0,
  "metadata": {
    "colab": {
      "name": "GetTestData.ipynb",
      "provenance": []
    },
    "kernelspec": {
      "name": "python3",
      "display_name": "Python 3"
    },
    "language_info": {
      "name": "python"
    }
  },
  "cells": [
    {
      "cell_type": "code",
      "metadata": {
        "colab": {
          "base_uri": "https://localhost:8080/"
        },
        "id": "FWfZcNuc2meo",
        "outputId": "9e2f68e6-e118-4127-877e-4c129038e33a"
      },
      "source": [
        "import torch\n",
        "import torch.nn.functional as F\n",
        "import torch.nn as nn\n",
        "import torchvision\n",
        "import torchvision.datasets as datasets\n",
        "import matplotlib.pyplot as plt\n",
        "import numpy as np\n",
        "import pickle\n",
        "from torch import Tensor\n",
        "import torch.optim as optim\n",
        "from torch.utils.data import DataLoader, TensorDataset\n",
        "import matplotlib.pyplot as plt\n",
        "import pandas as pd\n",
        "from sklearn import preprocessing\n",
        "from sklearn.model_selection import train_test_split\n",
        "from scipy.fft import rfft, rfftfreq, fft, fftfreq\n",
        "import scipy\n",
        "import time\n",
        "import copy\n",
        "from google.colab import drive\n",
        "\n",
        "drive.mount('/content/drive')"
      ],
      "execution_count": 19,
      "outputs": [
        {
          "output_type": "stream",
          "text": [
            "Drive already mounted at /content/drive; to attempt to forcibly remount, call drive.mount(\"/content/drive\", force_remount=True).\n"
          ],
          "name": "stdout"
        }
      ]
    },
    {
      "cell_type": "code",
      "metadata": {
        "colab": {
          "base_uri": "https://localhost:8080/"
        },
        "id": "dNPKeS5g2yW-",
        "outputId": "e075b117-cac9-414d-cd8c-7fdc415609b1"
      },
      "source": [
        "x = pickle.load(open(\"/content/drive/MyDrive/CSE 481 Capstone/data_preprocessed_python/s01.dat\", 'rb'), encoding = 'latin1')\n",
        "sub_data = x['data']\n",
        "sub_eeg = sub_data[:, :32, 3 * 128:]  #indexing EEG signals from physiological data\n",
        "sub_eeg = np.array(sub_eeg)\n",
        "print(sub_eeg.shape)\n",
        "trial_num = 0\n",
        "instance = sub_eeg[trial_num]\n",
        "print(instance.shape)\n",
        "pickle.dump(instance, open( \"/content/drive/MyDrive/CSE 481 Capstone/s01_trial01.dat\", \"wb\"))"
      ],
      "execution_count": 43,
      "outputs": [
        {
          "output_type": "stream",
          "text": [
            "(40, 32, 7680)\n",
            "(32, 7680)\n"
          ],
          "name": "stdout"
        }
      ]
    },
    {
      "cell_type": "code",
      "metadata": {
        "colab": {
          "base_uri": "https://localhost:8080/"
        },
        "id": "GZPRIzFHvOEw",
        "outputId": "914fb8c2-e2d5-4c9e-9532-675852144aa1"
      },
      "source": [
        "file = open(\"/content/drive/MyDrive/CSE 481 Capstone/s01_trial01.dat\", \"rb\")\n",
        "unpacked_instance = pickle.load(file, encoding='latin1')\n",
        "print(unpacked_instance.shape)"
      ],
      "execution_count": 46,
      "outputs": [
        {
          "output_type": "stream",
          "text": [
            "(32, 7680)\n"
          ],
          "name": "stdout"
        }
      ]
    }
  ]
}