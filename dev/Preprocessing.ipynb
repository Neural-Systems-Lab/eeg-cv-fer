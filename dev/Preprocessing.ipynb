{
  "nbformat": 4,
  "nbformat_minor": 0,
  "metadata": {
    "colab": {
      "name": "Preprocessing.ipynb",
      "provenance": []
    },
    "kernelspec": {
      "name": "python3",
      "display_name": "Python 3"
    },
    "language_info": {
      "name": "python"
    },
    "accelerator": "GPU"
  },
  "cells": [
    {
      "cell_type": "code",
      "metadata": {
        "colab": {
          "base_uri": "https://localhost:8080/"
        },
        "id": "UKXYxufmdwxH",
        "outputId": "1c789e6c-d5b5-46e7-f7c7-fc3847a32240"
      },
      "source": [
        "from google.colab import drive\n",
        "drive.mount('/content/drive')"
      ],
      "execution_count": null,
      "outputs": [
        {
          "output_type": "stream",
          "text": [
            "Mounted at /content/drive\n"
          ],
          "name": "stdout"
        }
      ]
    },
    {
      "cell_type": "code",
      "metadata": {
        "id": "f5o6QYIjiIEf"
      },
      "source": [
        "import torch\n",
        "import torch.nn.functional as F\n",
        "import torch.nn as nn\n",
        "import torchvision\n",
        "import torchvision.datasets as datasets\n",
        "import matplotlib.pyplot as plt\n",
        "import numpy as np\n",
        "import pickle\n",
        "import matplotlib.pyplot as plt\n",
        "import pandas as pd\n",
        "from sklearn import preprocessing\n",
        "from sklearn.model_selection import train_test_split\n",
        "from scipy.fft import rfft, rfftfreq, fft, fftfreq\n",
        "import scipy"
      ],
      "execution_count": null,
      "outputs": []
    },
    {
      "cell_type": "code",
      "metadata": {
        "colab": {
          "base_uri": "https://localhost:8080/"
        },
        "id": "u6ESi9x6iKeX",
        "outputId": "726cf623-9e70-4041-b86c-d11b7b9c689f"
      },
      "source": [
        "device = torch.device(\"cuda:0\" if torch.cuda.is_available() else \"cpu\")\n",
        "print(device)\n",
        "all_sub_data = []\n",
        "subjects_list = ['01', '02', '03', '04', '05', '06', '07', '08', '09', '10', '11', '12', '13', '14', '15', '16', '17', '18', '19', '20', '21', '22', '23', '24', '25', '26', '27', '28', '29', '30', '31', '32']\n",
        "for sub in subjects_list:\n",
        "    path = \"/content/drive/MyDrive/CSE 481 Capstone/data_preprocessed_python/s\"+sub+\".dat\"\n",
        "    x = pickle.load(open(path, 'rb'), encoding = 'latin1')\n",
        "    sub_data = x['data']\n",
        "    sub_eeg = sub_data[:, :32, 3 * 128:]  #indexing EEG signals from physiological data\n",
        "    all_sub_data.extend(sub_eeg)\n",
        "    print(sub)\n",
        "all_sub_data = np.array(all_sub_data)\n",
        "all_sub_data.shape\n",
        "np.save(\"/content/drive/MyDrive/CSE 481 Capstone/data\", all_sub_data)"
      ],
      "execution_count": null,
      "outputs": [
        {
          "output_type": "stream",
          "text": [
            "cpu\n",
            "01\n",
            "02\n",
            "03\n",
            "04\n",
            "05\n",
            "06\n",
            "07\n",
            "08\n",
            "09\n",
            "10\n",
            "11\n",
            "12\n",
            "13\n"
          ],
          "name": "stdout"
        }
      ]
    },
    {
      "cell_type": "code",
      "metadata": {
        "id": "2f87TDiUTyXo"
      },
      "source": [
        "with open('/content/drive/MyDrive/CSE 481 Capstone/data.npy', 'rb') as f:\n",
        "    all_sub_data = np.load(f)"
      ],
      "execution_count": null,
      "outputs": []
    },
    {
      "cell_type": "code",
      "metadata": {
        "colab": {
          "base_uri": "https://localhost:8080/"
        },
        "id": "AxkyrBu6ihEB",
        "outputId": "35e74016-767d-43ec-878a-57143fc0cf86"
      },
      "source": [
        "# 32 particpants * 40 trials, 32 channels, 128 * 60 sec\n",
        "all_sub_data.shape"
      ],
      "execution_count": null,
      "outputs": [
        {
          "output_type": "execute_result",
          "data": {
            "text/plain": [
              "(1280, 32, 7680)"
            ]
          },
          "metadata": {
            "tags": []
          },
          "execution_count": 4
        }
      ]
    },
    {
      "cell_type": "code",
      "metadata": {
        "id": "DCLx1w2NaLdH"
      },
      "source": [
        "# from sklearn.preprocessing import StandardScaler\n",
        "# for instance in range(all_sub_data.shape[0]):\n",
        "#   all_sub_data[instance] = StandardScaler().fit_transform(all_sub_data[instance])"
      ],
      "execution_count": null,
      "outputs": []
    },
    {
      "cell_type": "code",
      "metadata": {
        "colab": {
          "base_uri": "https://localhost:8080/",
          "height": 533
        },
        "id": "JDoLb3R0ii2t",
        "outputId": "03a0f9a8-6bff-4a5c-a0ac-b68e66b0ad9a"
      },
      "source": [
        "# plotting one instance\n",
        "one_instance=all_sub_data[0]\n",
        "print(one_instance.shape)\n",
        "print(one_instance)\n",
        "\n",
        "plt.title('One Instance on Channel 0')\n",
        "plt.plot(np.linspace(1, 7680, 7680), one_instance[0], label='Channel {}'.format(0))\n",
        "plt.xlabel('time')\n",
        "plt.ylabel('signal')\n",
        "plt.legend()\n",
        "plt.show()"
      ],
      "execution_count": null,
      "outputs": [
        {
          "output_type": "stream",
          "text": [
            "(32, 7680)\n",
            "[[ 4.05213     2.8912102  -1.77958774 ... -2.82648937 -4.47722969\n",
            "  -3.67692812]\n",
            " [ 3.05326186  4.12852886 -0.01624823 ... -2.98702069 -6.28780884\n",
            "  -4.47429041]\n",
            " [ 1.18607868  4.61642327  0.80339867 ... -2.6370776  -7.4065101\n",
            "  -6.75590441]\n",
            " ...\n",
            " [ 2.74540878  3.13796149  4.58457769 ...  6.68885999  6.91232131\n",
            "   5.66901722]\n",
            " [ 2.81410777  3.19246696  5.33090169 ...  2.6401731   6.57464869\n",
            "   7.20846274]\n",
            " [ 3.66600597  4.67147056  5.00733153 ...  2.23958511  3.18256605\n",
            "   4.70807159]]\n"
          ],
          "name": "stdout"
        },
        {
          "output_type": "display_data",
          "data": {
            "image/png": "[encoded data removed]",
            "text/plain": [
              "<Figure size 432x288 with 1 Axes>"
            ]
          },
          "metadata": {
            "tags": [],
            "needs_background": "light"
          }
        }
      ]
    },
    {
      "cell_type": "code",
      "metadata": {
        "colab": {
          "base_uri": "https://localhost:8080/",
          "height": 1000
        },
        "id": "l6uk-YPUimne",
        "outputId": "c70996f8-f771-443a-f76f-f0be839febbf"
      },
      "source": [
        "# Signal decomposition for one instance\n",
        "from scipy import signal\n",
        "\n",
        "\n",
        "one_instance.shape\n",
        "one_channel = one_instance[0]\n",
        "one_channel.shape\n",
        "freq = rfftfreq(one_channel.size, 1/128)\n",
        "fourier = fft(one_channel)[:freq.size]\n",
        "\n",
        "plt.plot(freq, fourier)\n",
        "plt.show()\n",
        "print(fourier)\n",
        "print(freq)\n",
        "print(len(freq))\n",
        "\n",
        "# max = np.argmax(fourier)\n",
        "# print(max)\n",
        "# print(max.dtype)\n",
        "# print(freq[max])\n",
        "#b, a = signal.iirnotch(22.0, 30, fs=128)\n",
        "#fourier = signal.filtfilt(b, a, fourier)\n",
        "#fourier = signal.lfilter(b, a, fourier)\n",
        "print(fourier)\n",
        "# fourier[max] = 0\n",
        "plt.plot(freq, fourier)\n",
        "plt.show()\n",
        "\n",
        "# plot\n",
        "# plt.title('FFT of One Instance on Channel 0')\n",
        "# plt.plot(freq, fourier, label='Channel {}'.format(0))\n",
        "# plt.xlabel('freq')\n",
        "# plt.ylabel('signal')\n",
        "# plt.legend()\n",
        "# plt.show()\n",
        "freq2 = rfftfreq(one_channel.size, 1/128)\n",
        "fourier2 = fft(one_instance[21])[:freq.size]\n",
        "plt.plot(freq2, fourier2)\n",
        "\n",
        "pcc = scipy.stats.pearsonr(fourier, fourier2)\n",
        "print('pcc', pcc)"
      ],
      "execution_count": null,
      "outputs": [
        {
          "output_type": "stream",
          "text": [
            "/usr/local/lib/python3.7/dist-packages/numpy/core/_asarray.py:83: ComplexWarning: Casting complex values to real discards the imaginary part\n",
            "  return array(a, dtype, copy=False, order=order)\n"
          ],
          "name": "stderr"
        },
        {
          "output_type": "display_data",
          "data": {
            "image/png": "[encoded data removed]",
            "text/plain": [
              "<Figure size 432x288 with 1 Axes>"
            ]
          },
          "metadata": {
            "tags": [],
            "needs_background": "light"
          }
        },
        {
          "output_type": "stream",
          "text": [
            "/usr/local/lib/python3.7/dist-packages/numpy/core/_asarray.py:83: ComplexWarning: Casting complex values to real discards the imaginary part\n",
            "  return array(a, dtype, copy=False, order=order)\n"
          ],
          "name": "stderr"
        },
        {
          "output_type": "stream",
          "text": [
            "[-227.8772063 -0.j          -13.33497984+0.00804628j\n",
            "  -13.3362521 +0.0149731j  ...    3.17700707-0.00324748j\n",
            "    3.17701834-0.00162139j    3.17701993-0.j        ]\n",
            "[0.00000000e+00 1.66666667e-02 3.33333333e-02 ... 6.39666667e+01\n",
            " 6.39833333e+01 6.40000000e+01]\n",
            "3841\n",
            "[-227.8772063 -0.j          -13.33497984+0.00804628j\n",
            "  -13.3362521 +0.0149731j  ...    3.17700707-0.00324748j\n",
            "    3.17701834-0.00162139j    3.17701993-0.j        ]\n"
          ],
          "name": "stdout"
        },
        {
          "output_type": "display_data",
          "data": {
            "image/png": "[encoded data removed]",
            "text/plain": [
              "<Figure size 432x288 with 1 Axes>"
            ]
          },
          "metadata": {
            "tags": [],
            "needs_background": "light"
          }
        },
        {
          "output_type": "stream",
          "text": [
            "pcc ((0.033210326629944546+0.021705486758106227j), 0.03957723544538851)\n"
          ],
          "name": "stdout"
        },
        {
          "output_type": "stream",
          "text": [
            "/usr/local/lib/python3.7/dist-packages/numpy/core/_asarray.py:83: ComplexWarning: Casting complex values to real discards the imaginary part\n",
            "  return array(a, dtype, copy=False, order=order)\n",
            "/usr/local/lib/python3.7/dist-packages/scipy/stats/stats.py:3555: ComplexWarning: Casting complex values to real discards the imaginary part\n",
            "  prob = 2*special.btdtr(ab, ab, 0.5*(1 - abs(np.float64(r))))\n"
          ],
          "name": "stderr"
        },
        {
          "output_type": "display_data",
          "data": {
            "image/png": "[encoded data removed]",
            "text/plain": [
              "<Figure size 432x288 with 1 Axes>"
            ]
          },
          "metadata": {
            "tags": [],
            "needs_background": "light"
          }
        }
      ]
    },
    {
      "cell_type": "code",
      "metadata": {
        "colab": {
          "base_uri": "https://localhost:8080/"
        },
        "id": "cW6LmCOnZwCK",
        "outputId": "dd6db6cd-27bf-4ca2-fc5a-da48ca653b86"
      },
      "source": [
        "hi = np.array([[1, 2], [3, 4], [5, 6]])\n",
        "print(hi.shape)\n",
        "print(hi[:, 0:1])\n",
        "h = np.ones((3, 3))\n",
        "print(h)\n",
        "h2 = np.zeros((4, 3, 3))\n",
        "h2[0] = h\n",
        "print(h2)"
      ],
      "execution_count": null,
      "outputs": [
        {
          "output_type": "stream",
          "text": [
            "(3, 2)\n",
            "[[1]\n",
            " [3]\n",
            " [5]]\n",
            "[[1. 1. 1.]\n",
            " [1. 1. 1.]\n",
            " [1. 1. 1.]]\n",
            "[[[1. 1. 1.]\n",
            "  [1. 1. 1.]\n",
            "  [1. 1. 1.]]\n",
            "\n",
            " [[0. 0. 0.]\n",
            "  [0. 0. 0.]\n",
            "  [0. 0. 0.]]\n",
            "\n",
            " [[0. 0. 0.]\n",
            "  [0. 0. 0.]\n",
            "  [0. 0. 0.]]\n",
            "\n",
            " [[0. 0. 0.]\n",
            "  [0. 0. 0.]\n",
            "  [0. 0. 0.]]]\n"
          ],
          "name": "stdout"
        }
      ]
    },
    {
      "cell_type": "code",
      "metadata": {
        "colab": {
          "base_uri": "https://localhost:8080/"
        },
        "id": "tN-KtzHIX38d",
        "outputId": "55f0a6c8-19d6-41bf-a6ad-c2581c6cae1d"
      },
      "source": [
        "fftfreq_channel = rfftfreq(all_sub_data[0][0].size, 1/ sampling_rate)\n",
        "print(fftfreq_channel.size)"
      ],
      "execution_count": null,
      "outputs": [
        {
          "output_type": "stream",
          "text": [
            "3841\n"
          ],
          "name": "stdout"
        }
      ]
    },
    {
      "cell_type": "code",
      "metadata": {
        "id": "Aovq4RheYGex"
      },
      "source": [
        ""
      ],
      "execution_count": null,
      "outputs": []
    },
    {
      "cell_type": "code",
      "metadata": {
        "colab": {
          "base_uri": "https://localhost:8080/"
        },
        "id": "OYABJPJ5PULk",
        "outputId": "31eea08d-0055-4adb-bf8d-7b4fef1acaff"
      },
      "source": [
        "# input 1280, 32, 7680\n",
        "sampling_rate = 128\n",
        "trials_total = all_sub_data.shape[0]\n",
        "channels_total = all_sub_data.shape[1]\n",
        "time_total = all_sub_data.shape[2]\n",
        "print(trials_total, channels_total, time_total)\n",
        "final_data = []\n",
        "count = 0\n",
        "one_freq = 8\n",
        "eight_freq = 64\n",
        "fourteen_freq = 112\n",
        "thirty_freq = 240\n",
        "fourtyfive_freq = 360\n",
        "for trial_num in range(trials_total): # for each trial\n",
        "  trial = all_sub_data[trial_num]  # trial is 32, 7680\n",
        "  start = 0\n",
        "  end = 8 # 8s time window\n",
        "  while (end <= 60): # until it finishes entire 60 sec video\n",
        "    time_window = trial[:, start * sampling_rate: end * sampling_rate]\n",
        "    start += 4\n",
        "    end += 4\n",
        "    #print(time_window.shape)\n",
        "    transformed_channel = []\n",
        "    for channel_num in range(channels_total): # for each channel\n",
        "      channel_data = time_window[channel_num]\n",
        "      #print(channel_data.shape)\n",
        "      \n",
        "      #fft_channel[max] = 0\n",
        "      fftfreq_channel = rfftfreq(channel_data.size, 1/ sampling_rate)\n",
        "      fft_channel = np.abs(fft(channel_data))[:fftfreq_channel.size]\n",
        "      # print(fft_channel.shape)\n",
        "      # max = np.argmax(fft_channel)\n",
        "      # print(max)\n",
        "      # plt.plot(fftfreq_channel, fft_channel)\n",
        "      # one_freq = np.where(fftfreq_channel == 1)[0][0]\n",
        "      # eight_freq = np.where(fftfreq_channel == 8)[0][0]\n",
        "      # fourteen_freq = np.where(fftfreq_channel == 14)[0][0]\n",
        "      # thirty_freq = np.where(fftfreq_channel == 30)[0][0]\n",
        "      # fourtyfive_freq = np.where(fftfreq_channel == 45)[0][0]\n",
        "      #print(one_freq, eight_freq, fourteen_freq, thirty_freq ,fourtyfive_freq)\n",
        "      #plt.plot(fftfreq_channel, fft_channel)\n",
        "      #print(fftfreq_channel.size)\n",
        "      alpha_bin = fft_channel[one_freq:eight_freq]\n",
        "      beta_bin = fft_channel[eight_freq:fourteen_freq]\n",
        "      theta_bin = fft_channel[fourteen_freq:thirty_freq]\n",
        "      gamma_bin = fft_channel[thirty_freq:fourtyfive_freq]\n",
        "      all_bins = [alpha_bin, beta_bin, theta_bin, gamma_bin]\n",
        "      #print(len(all_bins))\n",
        "      transformed_channel.append(all_bins)\n",
        "      #print(len(transformed_channel[0][1]))\n",
        "    #print(len(transformed_channel[0])) # 32, 4, bin len\n",
        "    binned_pcc_matrix = np.ones((4, channels_total, channels_total)) # 4, 32, 32\n",
        "    for bin_num in range(4):\n",
        "      pcc_matrix = binned_pcc_matrix[bin_num]  # 32, 32\n",
        "      index_mover = 0\n",
        "      for channel_num_i in range(0, channels_total):\n",
        "        for channel_num_j in range(index_mover, channels_total):\n",
        "          data1 = transformed_channel[channel_num_i][bin_num]\n",
        "          data2 = transformed_channel[channel_num_j][bin_num]\n",
        "          #print(scipy.stats.pearsonr(data1, data2)[0])\n",
        "          pcc_num = scipy.stats.pearsonr(data1, data2)[0]\n",
        "          pcc_matrix[channel_num_i][channel_num_j] = pcc_num\n",
        "          pcc_matrix[channel_num_j][channel_num_i] = pcc_num\n",
        "          #print(pcc_matrix[channel_num_i][channel_num_j])\n",
        "        index_mover += 1;\n",
        "        \n",
        "      binned_pcc_matrix[bin_num] = pcc_matrix\n",
        "      #print(pcc_matrix)\n",
        "    #print(binned_pcc_matrix[2][25])  # 4, 32, 32\n",
        "    final_data.append(binned_pcc_matrix)\n",
        "    count += 1\n",
        "    if (count % 500 == 0):\n",
        "        print(count)"
      ],
      "execution_count": null,
      "outputs": [
        {
          "output_type": "stream",
          "text": [
            "1280 32 7680\n",
            "500\n",
            "1000\n",
            "1500\n",
            "2000\n",
            "2500\n",
            "3000\n",
            "3500\n",
            "4000\n",
            "4500\n",
            "5000\n",
            "5500\n",
            "6000\n",
            "6500\n",
            "7000\n",
            "7500\n",
            "8000\n",
            "8500\n",
            "9000\n",
            "9500\n",
            "10000\n",
            "10500\n",
            "11000\n",
            "11500\n",
            "12000\n",
            "12500\n",
            "13000\n",
            "13500\n",
            "14000\n",
            "14500\n",
            "15000\n",
            "15500\n",
            "16000\n",
            "16500\n",
            "17000\n",
            "17500\n"
          ],
          "name": "stdout"
        }
      ]
    },
    {
      "cell_type": "code",
      "metadata": {
        "colab": {
          "base_uri": "https://localhost:8080/"
        },
        "id": "4vGydWFKvfiJ",
        "outputId": "45c7416e-b7fb-494d-b5ba-f41eb6cee122"
      },
      "source": [
        "final_data = np.array(final_data)\n",
        "print(final_data.shape)\n",
        "np.save(\"/content/drive/MyDrive/CSE 481 Capstone/processed_data_fft_abs\", final_data)\n",
        "with open('/content/drive/MyDrive/CSE 481 Capstone/processed_data_fft_abs.npy', 'rb') as f:\n",
        "    a = np.load(f)\n",
        "print(a.shape)"
      ],
      "execution_count": null,
      "outputs": [
        {
          "output_type": "stream",
          "text": [
            "(17920, 4, 32, 32)\n",
            "(17920, 4, 32, 32)\n"
          ],
          "name": "stdout"
        }
      ]
    },
    {
      "cell_type": "code",
      "metadata": {
        "id": "dtWt01vQ1qBr"
      },
      "source": [
        "with open('/content/drive/MyDrive/CSE 481 Capstone/processed_data.npy', 'rb') as f:\n",
        "    a = np.load(f)\n",
        "print(a.shape)\n",
        "print(a[0])"
      ],
      "execution_count": null,
      "outputs": []
    }
  ]
}